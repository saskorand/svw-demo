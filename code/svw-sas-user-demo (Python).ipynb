{
 "cells": [
  {
   "cell_type": "markdown",
   "metadata": {},
   "source": [
    "# SAS Viya Workbench를 활용한 Python 모형 적합 절차"
   ]
  },
  {
   "cell_type": "markdown",
   "metadata": {},
   "source": [
    "## 1. 사전 작업"
   ]
  },
  {
   "cell_type": "markdown",
   "metadata": {},
   "source": [
    "### 1.1. Packages import"
   ]
  },
  {
   "cell_type": "code",
   "execution_count": null,
   "metadata": {},
   "outputs": [],
   "source": [
    "import pandas as pd\n",
    "import numpy as np\n",
    "from sklearn.ensemble import RandomForestClassifier as python_rf, GradientBoostingClassifier as python_gbm"
   ]
  },
  {
   "cell_type": "markdown",
   "metadata": {},
   "source": [
    "### 1.2. CSV 데이터 가져오기"
   ]
  },
  {
   "cell_type": "code",
   "execution_count": null,
   "metadata": {},
   "outputs": [],
   "source": [
    "hmeq = pd.read_csv('/workspaces/myfolder/svw-demo/data/hmeq_learn.csv')\n",
    "hmeq.columns = hmeq.columns.str.upper()\n",
    "hmeq.head()"
   ]
  },
  {
   "cell_type": "markdown",
   "metadata": {},
   "source": [
    "## 2. 전처리 및 데이터 분할"
   ]
  },
  {
   "cell_type": "markdown",
   "metadata": {},
   "source": [
    "### 2.1. One-hot encoding"
   ]
  },
  {
   "cell_type": "code",
   "execution_count": null,
   "metadata": {},
   "outputs": [],
   "source": [
    "# a) 변수 변환\n",
    "hmeq_dummy = pd.get_dummies(data=hmeq, columns=['REASON', 'JOB'], drop_first=False)\n",
    "\n",
    "# b) 변환 전 변수 제거 (존재하지 않을 경우에도 오류 없이 처리)\n",
    "hmeq_dummy = hmeq_dummy.drop(columns=['REASON', 'JOB'], errors='ignore')\n",
    "\n",
    "# c) 결과 확인\n",
    "hmeq_dummy.info()"
   ]
  },
  {
   "cell_type": "markdown",
   "metadata": {},
   "source": [
    "### 2.2. 데이터 분할"
   ]
  },
  {
   "cell_type": "markdown",
   "metadata": {},
   "source": [
    "#### 1) 데이터 분할 및 편향 변수 제외"
   ]
  },
  {
   "cell_type": "code",
   "execution_count": null,
   "metadata": {},
   "outputs": [],
   "source": [
    "hmeq_train = hmeq_dummy[hmeq_dummy['_PARTIND_'] == 0].drop(columns=['RACE', 'SEX'], errors='ignore')\n",
    "print(\"## train  size:\", hmeq_train.shape[0] )"
   ]
  },
  {
   "cell_type": "markdown",
   "metadata": {},
   "source": [
    "#### 2) 입력과 반응 변수 분할"
   ]
  },
  {
   "cell_type": "code",
   "execution_count": null,
   "metadata": {},
   "outputs": [],
   "source": [
    "hmeq_train_x = hmeq_train.drop(columns=['BAD','ID','_PARTIND_'], errors='ignore')\n",
    "hmeq_train_y = hmeq_train['BAD']"
   ]
  },
  {
   "cell_type": "markdown",
   "metadata": {},
   "source": [
    "## 3. 모형 적합 및 스코어링"
   ]
  },
  {
   "cell_type": "markdown",
   "metadata": {},
   "source": [
    "### 3.1. Python 모형 학습"
   ]
  },
  {
   "cell_type": "code",
   "execution_count": null,
   "metadata": {},
   "outputs": [],
   "source": [
    "# a) Random forest Model\n",
    "pyrf=python_rf()\n",
    "pyrf.fit(hmeq_train_x, hmeq_train_y)\n",
    "\n",
    "# b) Gradient Boosting\n",
    "pygb = python_gbm()\n",
    "pygb.fit(hmeq_train_x, hmeq_train_y)"
   ]
  },
  {
   "cell_type": "markdown",
   "metadata": {},
   "source": [
    "### 3.2. 학습 모형 스코어링"
   ]
  },
  {
   "cell_type": "markdown",
   "metadata": {},
   "source": [
    "#### 1) 스코어링"
   ]
  },
  {
   "cell_type": "code",
   "execution_count": null,
   "metadata": {},
   "outputs": [],
   "source": [
    "pyrf_scored = pd.DataFrame(pyrf.predict_proba(hmeq_dummy.drop(columns=['BAD','ID','_PARTIND_','SEX','RACE'], errors='ignore')), columns=['P_BAD0', 'P_BAD1'])\n",
    "pygb_scored = pd.DataFrame(pygb.predict_proba(hmeq_dummy.drop(columns=['BAD','ID','_PARTIND_','SEX','RACE'], errors='ignore')), columns=['P_BAD0', 'P_BAD1'])"
   ]
  },
  {
   "cell_type": "markdown",
   "metadata": {},
   "source": [
    "#### 2) 편향 및 파티션등 변수 추가"
   ]
  },
  {
   "cell_type": "code",
   "execution_count": null,
   "metadata": {},
   "outputs": [],
   "source": [
    "pyrf_pred = pd.concat([hmeq_dummy[['ID', 'BAD', 'SEX', 'RACE', '_PARTIND_']], pyrf_scored], axis=1)\n",
    "pygb_pred = pd.concat([hmeq_dummy[['ID', 'BAD', 'SEX', 'RACE', '_PARTIND_']], pygb_scored], axis=1)"
   ]
  },
  {
   "cell_type": "markdown",
   "metadata": {},
   "source": [
    "## 4. 스코어링 데이터 내보내기"
   ]
  },
  {
   "cell_type": "code",
   "execution_count": null,
   "metadata": {},
   "outputs": [],
   "source": [
    "pyrf_pred.to_csv('/workspaces/svwdemo/result/hmeq_pyrf_pred.csv', index=False)\n",
    "pygb_pred.to_csv('/workspaces/svwdemo/result/hmeq_pygb_pred.csv', index=False)"
   ]
  }
 ],
 "metadata": {
  "kernelspec": {
   "display_name": "Python 3",
   "language": "python",
   "name": "python3"
  },
  "language_info": {
   "codemirror_mode": {
    "name": "ipython",
    "version": 3
   },
   "file_extension": ".py",
   "mimetype": "text/x-python",
   "name": "python",
   "nbconvert_exporter": "python",
   "pygments_lexer": "ipython3",
   "version": "3.11.9"
  }
 },
 "nbformat": 4,
 "nbformat_minor": 2
}
